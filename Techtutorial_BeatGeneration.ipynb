{
 "cells": [
  {
   "cell_type": "markdown",
   "metadata": {},
   "source": [
    "**Startup**\n\n",
    "Load Python libraries for scientific computing and librosa MIR library\n\n",
    "Set standard parameters for further audio processing\n\n",
    "Set paths"
   ]
  },
  {
   "cell_type": "code",
   "execution_count": null,
   "metadata": {
    "collapsed": true
   },
   "outputs": [],
   "source": [
    "#!/usr/bin/python3\n",
    "# -*- coding: utf-8 -*-\n",
    "\"\"\"\n",
    "Created on Sat Nov 18 14:32:47 2017\n",
    "\n",
    "@author: alexmacbook\n",
    "\"\"\"\n",
    "\n",
    "import numpy as np\n",
    "import scipy as sp\n",
    "#import matplotlib.pyplot as plt, IPython.display as ipd\n",
    "import librosa\n",
    "#import librosa.display\n",
    "import random\n",
    "import os\n",
    "\n",
    "CHANNELS = 1\n",
    "BYTES_PER_SAMPLE = 2\n",
    "SR = 44100\n",
    "PAD_DURATION = 0.500\n",
    "\n",
    "##SOUND STANDARDIZATION\n",
    "STD_PITCH = 55 #G3\n",
    "BPM = 100.0 #100bpm\n",
    "\n",
    "##FOLDERS\n",
    "PRE_AUDIO = \"pre_audio\"\n",
    "POST_SOUNDS = \"post_sounds\"\n",
    "POST_SNARE = \"post_percussion2\""
   ]
  },
  {
   "cell_type": "markdown",
   "metadata": {},
   "source": [
    "**Reverb**\n\n",
    "simple reverb using Schroedinger algorithm"
   ]
  },
  {
   "cell_type": "code",
   "execution_count": null,
   "metadata": {
    "collapsed": true
   },
   "outputs": [],
   "source": [
    "def reverb(x, sr):\n",
    "    # Initialize output array\n",
    "    output = np.zeros(x.shape)\n",
    "    \n",
    "    # Initialize filter coefficients\n",
    "    a = np.array([0.6, 0.4, 0.2, 0.1, 0.7, 0.6, 0.8])\n",
    "    R = np.array([700, 900, 600, 400, 450, 390])\n",
    "    \n",
    "    # Implement reverb algorithm\n",
    "    num1 = np.append(0, np.zeros(R[0]-1)); num1 = np.append(num1, 1);\n",
    "    den1 = np.append(1, np.zeros(R[0]-1)); den1 = np.append(den1, -a[0]);\n",
    "    d1 = sp.signal.lfilter(num1, den1, x)\n",
    "    num2 = np.append(0, np.zeros(R[1]-1)); num2 = np.append(num2, 1);\n",
    "    den2 = np.append(1, np.zeros(R[1]-1)); den2 = np.append(den2, -a[1]);\n",
    "    d2 = sp.signal.lfilter(num2, den2, x)\n",
    "    num3 = np.append(0, np.zeros(R[2]-1)); num3 = np.append(num3, 1);\n",
    "    den3 = np.append(1, np.zeros(R[2]-1)); den3 = np.append(den3, -a[2]);\n",
    "    d3 = sp.signal.lfilter(num3, den3, x)\n",
    "    num4 = np.append(0, np.zeros(R[3]-1)); num4 = np.append(num4, 1);\n",
    "    den4 = np.append(1, np.zeros(R[3]-1)); den4 = np.append(den4, -a[3]);\n",
    "    d4 = sp.signal.lfilter(num4, den4, x)\n",
    "    d = d1 + d2 + d3 + d4\n",
    "    num5 = np.append(a[4], np.zeros(R[4]-1)); num5 = np.append(num5, 1);\n",
    "    den5 = np.append(1, np.zeros(R[4]-1)); den5 = np.append(den5, a[4]);\n",
    "    d = sp.signal.lfilter(num5, den5, d)\n",
    "    num6 = np.append(a[5], np.zeros(R[5]-1)); num6 = np.append(num6, 1);\n",
    "    den6 = np.append(1, np.zeros(R[5]-1)); den6 = np.append(den6, a[5]);\n",
    "    d = sp.signal.lfilter(num6, den6, d)\n",
    "    output = x + a[6]*d;\n",
    "    # Clip amplitude to minimize distortion\n",
    "    output *= 0.35\n",
    "    \n",
    "    # Ensure correct output array size\n",
    "    #output.shape=np.original.shape\n",
    "    \n",
    "    return output"
   ]
  },
  {
   "cell_type": "markdown",
   "metadata": {},
   "source": [
    "**Speed Adjustment**\n\n",
    "Adjust speed to match 100bpm"
   ]
  },
  {
   "cell_type": "code",
   "execution_count": null,
   "metadata": {
    "collapsed": true
   },
   "outputs": [],
   "source": [
    "def speed_adjust(x_pre, sr):\n",
    "    onset_env = librosa.onset.onset_strength(x_pre, sr=sr)\n",
    "    tempo = librosa.beat.tempo(onset_envelope=onset_env, sr=sr)\n",
    "    x_fast = librosa.effects.time_stretch(x_pre, tempo / BPM)\n",
    "    return x_fast"
   ]
  },
  {
   "cell_type": "markdown",
   "metadata": {},
   "source": [
    "**Get pitch**\n\n",
    "Get pitch of audio segment by looking at the pitches with magnitudes higher than median\n\n",
    "Return pitch as midi note"
   ]
  },
  {
   "cell_type": "code",
   "execution_count": null,
   "metadata": {
    "collapsed": true
   },
   "outputs": [],
   "source": [
    "def get_pitch(y, sr):\n",
    "    pitches, magnitudes = librosa.piptrack(y, sr=sr)\n",
    "    pitches = pitches[magnitudes > np.median(magnitudes)]\n",
    "    pitches = [int(a) for (a) in pitches]\n",
    "    pitch = int(librosa.hz_to_midi(sp.stats.mode(pitches)[0]))\n",
    "    return pitch"
   ]
  },
  {
   "cell_type": "markdown",
   "execution_count": null,
   "metadata": {
    "collapsed": true
   },
   "outputs": [],
   "source": [
    "**Extract sound**\n\n",
    "Simlpy write output to .wav"
   ]
  },
  {
   "cell_type": "code",
   "execution_count": null,
   "metadata": {
    "collapsed": true
   },
   "outputs": [],
   "source": [
    "def extract_sound(path, song_name):\n",
    "\n",
    "       \n",
    "        #pitches, magnitudes = librosa.piptrack(y, sr=sr)\n",
    "        #pitches = pitches[magnitudes > np.median(magnitudes)]\n",
    "        #pitches = [int(a) for (a) in pitches]\n",
    "        #pitch = int(librosa.hz_to_midi(sp.stats.mode(pitches)[0]))\n",
    "        #pitched_y = librosa.effects.pitch_shift(y, SR, n_steps=STD_PITCH-pitch)\n",
    "        librosa.output.write_wav(POST_SOUNDS+'/'+song_name, y, sr)\n",
    "        \n",
    "        "
   ]
  },
  {
   "cell_type": "markdown",
   "metadata": {},
   "source": [
    "**Generate Kicks**\n\n",
    "Generate kick beat of 8-beat length:\n\n",
    "Iterate through the notes and play sample at the respective time\n\n",
    "Cut samples at the end of the beat (dirty hack)"
   ]
  },
  {
   "cell_type": "code",
   "execution_count": null,
   "metadata": {
    "collapsed": true
   },
   "outputs": [],
   "source": [
    "def generate_kicks(path, notes):\n",
    "    #loading sound file\n",
    "    y, sr = librosa.load(path, sr=SR)\n",
    "    \n",
    "    #defining melody loop boundaries\n",
    "    beat_length = int(sr*(60/(BPM/8)))\n",
    "    kick = np.zeros([beat_length])\n",
    "    sound_length = len(y)\n",
    "            \n",
    "    #iterating through the notes\n",
    "    for n in notes:\n",
    "        note_wav = np.zeros([beat_length])\n",
    "        current_sample = int((n/1000) * SR)\n",
    "        if(current_sample+sound_length <= beat_length):\n",
    "            note_wav[current_sample:current_sample+sound_length] = y\n",
    "        else:\n",
    "            note_wav[current_sample::] = y[:(beat_length - (current_sample+sound_length))]\n",
    "        kick += note_wav\n",
    "    return kick"
   ]
  },
  {
   "cell_type": "markdown",
   "metadata": {},
   "source": [
    "**Generate Snares**\n\n",
    "Generate snare beat of 8-beat length:\n\n",
    "Iterate through the notes and play sample at the respective time\n\n",
    "Cut samples at the end of the beat (dirty hack)"
   ]
  },
  {
   "cell_type": "code",
   "execution_count": null,
   "metadata": {
    "collapsed": true
   },
   "outputs": [],
   "source": [
    "def generate_snares(path, notes):\n",
    "    #loading sound file\n",
    "    y, sr = librosa.load(path, sr=SR)\n",
    "    \n",
    "    #defining melody loop boundaries\n",
    "    beat_length = int(sr*(60/(BPM/8)))\n",
    "    snare = np.zeros([beat_length])\n",
    "    sound_length = len(y)\n",
    "            \n",
    "    #iterating through the notes\n",
    "    for n in notes:\n",
    "        note_wav = np.zeros([beat_length])\n",
    "        current_sample = int((n/1000) * SR)\n",
    "        if(current_sample+sound_length <= beat_length):\n",
    "            note_wav[current_sample:current_sample+sound_length] = y\n",
    "        else:\n",
    "            note_wav[current_sample::] = y[:(beat_length - (current_sample+sound_length))]\n",
    "        snare += note_wav\n",
    "    return snare"
   ]
  },
  {
   "cell_type": "markdown",
   "metadata": {},
   "source": [
    "**Generate melody**\n",
    "Generate melody of 8-beat length:\n\n",
    "Iterate through the notes \n\n",
    "    Pitch sounds according to played note (irrespective of octave)\n\n",
    "    Play pitches sample at the respective time\n\n",
    "    Cut samples at the end of the beat (dirty hack)"
   ]
  },
  {
   "cell_type": "code",
   "execution_count": null,
   "metadata": {
    "collapsed": true
   },
   "outputs": [],
   "source": [
    "def generate_melody(path, notes):    \n",
    "    #loading sound file\n",
    "    y, sr = librosa.load(path, sr=SR)\n",
    "    \n",
    "    #defining melody loop boundaries\n",
    "    beat_length = int(sr*(60/(BPM/8)))\n",
    "    instrumental = np.zeros([beat_length])\n",
    "    sound_length = len(y)\n",
    "    \n",
    "    #get pitch of sample_sound\n",
    "    sample_pitch = get_pitch(y, sr)\n",
    "            \n",
    "    #iterating through the notes\n",
    "    for i, n in enumerate(notes):\n",
    "        pitch = n[0]\n",
    "        raw_sample_pitch = sample_pitch % 12\n",
    "        raw_pitch = pitch % 12\n",
    "        if(pitch >= 60):\n",
    "            raw_pitch = (pitch % 12)+12\n",
    "\n",
    "        pitched_y = librosa.effects.pitch_shift(y, sr, n_steps=raw_pitch-raw_sample_pitch)\n",
    "        note_wav = np.zeros([beat_length])\n",
    "        current_sample = int((n[1]/1000) * SR)\n",
    "        if(current_sample+sound_length <= beat_length):\n",
    "            note_wav[current_sample:current_sample+sound_length] = pitched_y\n",
    "        else:\n",
    "            note_wav[current_sample::] = pitched_y[:(beat_length - (current_sample+sound_length))]\n",
    "        instrumental += note_wav\n",
    "    return instrumental\n"
   ]
  },
  {
   "cell_type": "markdown",
   "metadata": {},
   "source": [
    "**Generate single pitches for live audio**\n\n",
    "This function creates the pitched audio for on signature sound exclusively fo the live audio function\n\n",
    "Retrieve original pitch of sample\n\n",
    "Iterate through supported pitches on online keyboard\n\n",
    "    Pitch sample accordingly\n\n",
    "    Save pitched sample to .wav"
   ]
  },
  {
   "cell_type": "code",
   "execution_count": null,
   "metadata": {
    "collapsed": true
   },
   "outputs": [],
   "source": [
    "def generate_single_pitches(path):\n",
    "    #loading sound file\n",
    "    y, sr = librosa.load(path, sr=SR)\n",
    "       \n",
    "    #get pitch of sample_sound\n",
    "    sample_pitch = get_pitch(y, sr)\n",
    "    output_path = path.replace('/post_sounds/', '/post_sounds_pitched/')\n",
    "    #iterating through the notes\n",
    "    for i in range(48,66):\n",
    "        pitch = i\n",
    "        raw_sample_pitch = sample_pitch % 12\n",
    "        raw_pitch = pitch % 12\n",
    "        if(pitch >= 60):\n",
    "            raw_pitch = (pitch % 12)+12\n",
    "        pitched_y = librosa.effects.pitch_shift(y, sr, n_steps=raw_pitch-raw_sample_pitch)\n",
    "        output_filename = output_path + '_' + str(i) + '.wav'\n",
    "        librosa.output.write_wav(output_filename, pitched_y, SR)"
   ]
  },
  {
   "cell_type": "markdown",
   "metadata": {},
   "source": [
    "**Generate drumbeat**\n\n",
    "Called by flask backend\n\n",
    "Generates entire drum loop for given played drum sequence (midi notes + time information)\n\n",
    "Saves drum loop (kick + snare) to .wav"
   ]
  },
  {
   "cell_type": "code",
   "execution_count": null,
   "metadata": {
    "collapsed": true
   },
   "outputs": [],
   "source": [
    "def generate_drumbeat(sound_kick, sound_snare, notes_kick, notes_snare, output_filename):\n",
    "    kicks = generate_kicks(sound_kick, notes_kick)\n",
    "    snares = generate_snares(sound_snare, notes_snare)\n",
    "    audio = kicks + snares\n",
    "    #audio = audio + (reverbed_audio * 0.3) #Mix reverb\n",
    "    librosa.output.write_wav(output_filename, audio, SR)"
   ]
  },
  {
   "cell_type": "markdown",
   "metadata": {},
   "source": [
    "**Generate song from drumbeat**\n\n",
    "Called by flask backend\n\n",
    "Generates generated melody from played instrumental sequences\n\n",
    "Adds some reverb to conceal some of the harsh cuts at the end of some samples\n\n",
    "Combines pre-generated drumbeat with melody\n\n",
    "Saves the combined beat to .wav"
   ]
  },
  {
   "cell_type": "code",
   "execution_count": null,
   "metadata": {
    "collapsed": true
   },
   "outputs": [],
   "source": [
    "def generate_song_from_drumbeat(sound_melody, notes_melody, beat_filename, output_filename):\n",
    "    instrumental = generate_melody(sound_melody, np.array(notes_melody))\n",
    "    instrumental = instrumental + (reverb(instrumental, SR) * 0.1) #Mix reverb\n",
    "    drumbeat, sr = librosa.load(beat_filename, sr=SR)\n",
    "    audio = instrumental + drumbeat\n",
    "    librosa.output.write_wav(output_filename, audio, SR)"
   ]
  },
  {
   "cell_type": "markdown",
   "metadata": {},
   "source": [
    "**DEBUG ONLY: Generate song**\n\n",
    "Generate entire song with melody, kick and snare sequence (time + sample information)\n\n",
    "Add some reverb to conceal some of the harsh cuts at the end of some samples (to drumbeat and instrumental for debug)\n\n",
    "Saves the combined beat to .wav"
   ]
  },
  {
   "cell_type": "code",
   "execution_count": null,
   "metadata": {
    "collapsed": true
   },
   "outputs": [],
   "source": [
    "def generate_song(sound_melody, sound_kick, sound_snare, notes_melody, notes_kick, notes_snare, output_filename):\n",
    "    instrumental = generate_melody(sound_melody, np.array(notes_melody))\n",
    "    kicks = generate_kicks(sound_kick, notes_kick)\n",
    "    snares = generate_snares(sound_snare, notes_snare)\n",
    "    \n",
    "    audio =  instrumental + snares + kicks\n",
    "    reverbed_audio = reverb(audio, SR)\n",
    "    audio = audio + (reverbed_audio * 0.1) #Mix reverb\n",
    "    librosa.output.write_wav(output_filename, audio, SR)"
   ]
  },
  {
   "cell_type": "markdown",
   "metadata": {},
   "source": [
    "**DEBUG ONLY: main**\n\n",
    "Call some of the supported functions that will be deployed on the backend with test parameters"
   ]
  },
  {
   "cell_type": "code",
   "execution_count": null,
   "metadata": {
    "collapsed": true
   },
   "outputs": [],
   "source": [
    "if __name__ == '__main__':\n",
    "\timport os\n",
    "\tfor f in os.listdir('/var/www/100bpm/app/sounds/post_sounds'):\n",
    "\t\tfp = '/var/www/100bpm/app/sounds/post_sounds/' + f\n",
    "\t\tgenerate_single_pitches(fp)\n",
    "\"\"\"\tgenerate_song(\n",
    "\t\t\"new_post_sounds/01 Somebody (feat. Jeremih).wav\",\n",
    "\t\t\"post_kicks/65 Touchin, Lovin (feat. Nicki Minaj).wav_20.8808708191_25.wav\",\n",
    "\t\t\"post_snares/16 Loin (feat. Dany synthé) [Pilule Violette].wav_9.9791841507_9.wav\",\n",
    "\t\t[[55, 920, 201]],\n",
    "\t\t[50],\n",
    "\t\t[20],\n",
    "\t\t\"melody.wav\"\n",
    "\t)\n",
    "\"\"\"\n"
   ]
  }
 ],
 "metadata": {
  "kernelspec": {
   "display_name": "Python [default]",
   "language": "python",
   "name": "python3"
  },
  "language_info": {
   "codemirror_mode": {
    "name": "ipython",
    "version": 3
   },
   "file_extension": ".py",
   "mimetype": "text/x-python",
   "name": "python",
   "nbconvert_exporter": "python",
   "pygments_lexer": "ipython3",
   "version": "3.5.2"
  }
 },
 "nbformat": 4,
 "nbformat_minor": 1
}
